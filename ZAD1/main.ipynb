{
 "cells": [
  {
   "cell_type": "code",
   "execution_count": 2,
   "id": "c936958c",
   "metadata": {},
   "outputs": [],
   "source": [
    "import numpy as np\n",
    "from Binet import *\n",
    "from Float import *\n",
    "from Strassen import *"
   ]
  },
  {
   "cell_type": "code",
   "execution_count": 3,
   "id": "0c0bf763",
   "metadata": {},
   "outputs": [],
   "source": [
    "def random_matrix(n: int, m: int):\n",
    "    matrix = np.random.random((n, m)) + 0.00000001\n",
    "    return np.frompyfunc(Float, 1, 1)(matrix)"
   ]
  },
  {
   "cell_type": "code",
   "execution_count": 3,
   "id": "9722fb5f",
   "metadata": {},
   "outputs": [],
   "source": [
    "A = random_matrix(7, 5)\n",
    "B = random_matrix(5, 4)"
   ]
  },
  {
   "cell_type": "code",
   "execution_count": 4,
   "id": "ab2ff1d5",
   "metadata": {},
   "outputs": [
    {
     "name": "stdout",
     "output_type": "stream",
     "text": [
      "448 0 512 0\n"
     ]
    }
   ],
   "source": [
    "Float.reset()\n",
    "C1 = binet_with_padding(A, B)\n",
    "print(Float.add_counter, Float.sub_counter, Float.mul_counter, Float.div_counter)"
   ]
  },
  {
   "cell_type": "code",
   "execution_count": 5,
   "id": "40c37189",
   "metadata": {},
   "outputs": [
    {
     "name": "stdout",
     "output_type": "stream",
     "text": [
      "112 0 140 0\n"
     ]
    }
   ],
   "source": [
    "Float.reset()\n",
    "C2 = binet_without_padding(A, B)\n",
    "print(Float.add_counter, Float.sub_counter, Float.mul_counter, Float.div_counter)"
   ]
  },
  {
   "cell_type": "code",
   "execution_count": 6,
   "id": "633bf88b",
   "metadata": {},
   "outputs": [
    {
     "name": "stdout",
     "output_type": "stream",
     "text": [
      "112 0 140 0\n"
     ]
    }
   ],
   "source": [
    "Float.reset()\n",
    "C3 = binet_two_split(A, B)\n",
    "print(Float.add_counter, Float.sub_counter, Float.mul_counter, Float.div_counter)"
   ]
  },
  {
   "cell_type": "code",
   "execution_count": 7,
   "id": "d2dc87b8",
   "metadata": {},
   "outputs": [],
   "source": [
    "C = A @ B"
   ]
  },
  {
   "cell_type": "code",
   "execution_count": 8,
   "id": "630e5e39",
   "metadata": {},
   "outputs": [
    {
     "data": {
      "text/plain": [
       "array([[0.0, 2.220446049250313e-16, 0.0, -2.220446049250313e-16],\n",
       "       [0.0, 0.0, 0.0, 0.0],\n",
       "       [0.0, 0.0, 0.0, 0.0],\n",
       "       [0.0, 0.0, 0.0, 0.0],\n",
       "       [2.220446049250313e-16, 0.0, 0.0, 0.0],\n",
       "       [2.220446049250313e-16, 0.0, 0.0, 0.0],\n",
       "       [0.0, 0.0, 0.0, -1.1102230246251565e-16]], dtype=object)"
      ]
     },
     "execution_count": 8,
     "metadata": {},
     "output_type": "execute_result"
    }
   ],
   "source": [
    "C3 - C"
   ]
  }
 ],
 "metadata": {
  "kernelspec": {
   "display_name": "Python 3",
   "language": "python",
   "name": "python3"
  },
  "language_info": {
   "codemirror_mode": {
    "name": "ipython",
    "version": 3
   },
   "file_extension": ".py",
   "mimetype": "text/x-python",
   "name": "python",
   "nbconvert_exporter": "python",
   "pygments_lexer": "ipython3",
   "version": "3.12.3"
  }
 },
 "nbformat": 4,
 "nbformat_minor": 5
}
