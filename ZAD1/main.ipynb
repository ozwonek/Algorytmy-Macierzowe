{
 "cells": [
  {
   "cell_type": "code",
   "execution_count": 2,
   "id": "c936958c",
   "metadata": {},
   "outputs": [],
   "source": [
    "import numpy as np\n",
    "from Binet import *\n",
    "from Float import *\n",
    "from Strassen import *"
   ]
  },
  {
   "cell_type": "code",
   "execution_count": 3,
   "id": "0c0bf763",
   "metadata": {},
   "outputs": [],
   "source": [
    "def random_matrix(n: int, m: int):\n",
    "    matrix = np.random.random((n, m)) + 0.00000001\n",
    "    return np.frompyfunc(Float, 1, 1)(matrix)"
   ]
  },
  {
   "cell_type": "code",
   "execution_count": 8,
   "id": "9722fb5f",
   "metadata": {},
   "outputs": [],
   "source": [
    "A = random_matrix(2, 2)\n",
    "B = random_matrix(2, 2)"
   ]
  },
  {
   "cell_type": "code",
   "execution_count": 9,
   "id": "40c37189",
   "metadata": {},
   "outputs": [
    {
     "name": "stdout",
     "output_type": "stream",
     "text": [
      "4 0 8 0\n"
     ]
    }
   ],
   "source": [
    "Float.reset()\n",
    "binet_without_padding(A, B)\n",
    "print(Float.add_counter, Float.sub_counter, Float.mul_counter, Float.div_counter)"
   ]
  },
  {
   "cell_type": "code",
   "execution_count": 10,
   "id": "ab2ff1d5",
   "metadata": {},
   "outputs": [
    {
     "name": "stdout",
     "output_type": "stream",
     "text": [
      "4 0 8 0\n"
     ]
    }
   ],
   "source": [
    "Float.reset()\n",
    "binet_with_padding(A, B)\n",
    "print(Float.add_counter, Float.sub_counter, Float.mul_counter, Float.div_counter)"
   ]
  },
  {
   "cell_type": "code",
   "execution_count": 11,
   "id": "67684e45",
   "metadata": {},
   "outputs": [
    {
     "name": "stdout",
     "output_type": "stream",
     "text": [
      "12 6 7 0\n"
     ]
    }
   ],
   "source": [
    "Float.reset()\n",
    "strassen_with_padding(A, B)\n",
    "print(Float.add_counter, Float.sub_counter, Float.mul_counter, Float.div_counter)"
   ]
  }
 ],
 "metadata": {
  "kernelspec": {
   "display_name": "Python 3",
   "language": "python",
   "name": "python3"
  },
  "language_info": {
   "codemirror_mode": {
    "name": "ipython",
    "version": 3
   },
   "file_extension": ".py",
   "mimetype": "text/x-python",
   "name": "python",
   "nbconvert_exporter": "python",
   "pygments_lexer": "ipython3",
   "version": "3.12.3"
  }
 },
 "nbformat": 4,
 "nbformat_minor": 5
}
